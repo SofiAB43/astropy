{
 "cells": [
  {
   "cell_type": "markdown",
   "metadata": {},
   "source": [
    "Traducción al español de http://www.astropy.org/astropy-tutorials/Coordinates.html hecha por Germán Chaparro."
   ]
  },
  {
   "cell_type": "markdown",
   "metadata": {},
   "source": [
    "# Usando `astropy.coordinates` para Combinar Catálogos and Planear Observationes"
   ]
  },
  {
   "cell_type": "markdown",
   "metadata": {},
   "source": [
    "En este tutorial, exploraremos cómo el paquete `astropy.coordinates` junto con la funcionalidad general de astropy puede ser usado para planear observaciones y en general obtener información que requiera el uso de catálogos astronómicos grandes."
   ]
  },
  {
   "cell_type": "markdown",
   "metadata": {},
   "source": [
    "Este tutorial requiere astropy v1.0 o más reciente, y el paquete astroquery."
   ]
  },
  {
   "cell_type": "code",
   "execution_count": 2,
   "metadata": {
    "collapsed": false,
    "jupyter": {
     "outputs_hidden": false
    }
   },
   "outputs": [],
   "source": [
    "import urllib\n",
    "import IPython.display\n",
    "import numpy as np"
   ]
  },
  {
   "cell_type": "code",
   "execution_count": 19,
   "metadata": {
    "collapsed": false,
    "jupyter": {
     "outputs_hidden": false
    }
   },
   "outputs": [],
   "source": [
    "%matplotlib inline\n",
    "from matplotlib import pyplot as plt"
   ]
  },
  {
   "cell_type": "code",
   "execution_count": 4,
   "metadata": {
    "collapsed": false,
    "jupyter": {
     "outputs_hidden": false
    }
   },
   "outputs": [],
   "source": [
    "import astropy as ap\n",
    "from astropy import units as u\n",
    "from astropy.coordinates import SkyCoord\n",
    "from astropy.table import Table"
   ]
  },
  {
   "cell_type": "markdown",
   "metadata": {},
   "source": [
    "## Determinando lugares en el cielo con `coordinates`"
   ]
  },
  {
   "cell_type": "markdown",
   "metadata": {},
   "source": [
    "Comencemos considerando un campo alrededor del pintoresco Grupo Compacto Hickson 7 (HCG7). Primero necesitamos obtener un objeto que represente las coordenadas del centro de este grupo.\n",
    "\n",
    "En Astropy, el objeto más común para trabajar coordenadas es `SkyCoord`.  Un `SkyCoord` puede ser creado simplemente a partir de ángulos como se muestra más abajo. Es recomendable especificar el marco de referencia de sus coordenadas, aunque no es estrictamente necesario, ya que por defecto se usa el estándar ICRS de la IAU. Este estándar se puede entender como aproximadamente igual al sistema ecuatorial en el equinoxio de J2000, y se da en RA/DEC.\n",
    "\n",
    "https://en.wikipedia.org/wiki/International_Celestial_Reference_System"
   ]
  },
  {
   "cell_type": "code",
   "execution_count": 5,
   "metadata": {
    "collapsed": false,
    "jupyter": {
     "outputs_hidden": false
    },
    "scrolled": true
   },
   "outputs": [
    {
     "data": {
      "text/plain": [
       "\u001b[0;31mInit signature:\u001b[0m \u001b[0mSkyCoord\u001b[0m\u001b[0;34m(\u001b[0m\u001b[0;34m*\u001b[0m\u001b[0margs\u001b[0m\u001b[0;34m,\u001b[0m \u001b[0mcopy\u001b[0m\u001b[0;34m=\u001b[0m\u001b[0;32mTrue\u001b[0m\u001b[0;34m,\u001b[0m \u001b[0;34m**\u001b[0m\u001b[0mkwargs\u001b[0m\u001b[0;34m)\u001b[0m\u001b[0;34m\u001b[0m\u001b[0;34m\u001b[0m\u001b[0m\n",
       "\u001b[0;31mDocstring:\u001b[0m     \n",
       "High-level object providing a flexible interface for celestial coordinate\n",
       "representation, manipulation, and transformation between systems.\n",
       "\n",
       "The `SkyCoord` class accepts a wide variety of inputs for initialization. At\n",
       "a minimum these must provide one or more celestial coordinate values with\n",
       "unambiguous units.  Inputs may be scalars or lists/tuples/arrays, yielding\n",
       "scalar or array coordinates (can be checked via ``SkyCoord.isscalar``).\n",
       "Typically one also specifies the coordinate frame, though this is not\n",
       "required. The general pattern for spherical representations is::\n",
       "\n",
       "  SkyCoord(COORD, [FRAME], keyword_args ...)\n",
       "  SkyCoord(LON, LAT, [FRAME], keyword_args ...)\n",
       "  SkyCoord(LON, LAT, [DISTANCE], frame=FRAME, unit=UNIT, keyword_args ...)\n",
       "  SkyCoord([FRAME], <lon_attr>=LON, <lat_attr>=LAT, keyword_args ...)\n",
       "\n",
       "It is also possible to input coordinate values in other representations\n",
       "such as cartesian or cylindrical.  In this case one includes the keyword\n",
       "argument ``representation_type='cartesian'`` (for example) along with data\n",
       "in ``x``, ``y``, and ``z``.\n",
       "\n",
       "See also: https://docs.astropy.org/en/stable/coordinates/\n",
       "\n",
       "Examples\n",
       "--------\n",
       "The examples below illustrate common ways of initializing a `SkyCoord`\n",
       "object.  For a complete description of the allowed syntax see the\n",
       "full coordinates documentation.  First some imports::\n",
       "\n",
       "  >>> from astropy.coordinates import SkyCoord  # High-level coordinates\n",
       "  >>> from astropy.coordinates import ICRS, Galactic, FK4, FK5  # Low-level frames\n",
       "  >>> from astropy.coordinates import Angle, Latitude, Longitude  # Angles\n",
       "  >>> import astropy.units as u\n",
       "\n",
       "The coordinate values and frame specification can now be provided using\n",
       "positional and keyword arguments::\n",
       "\n",
       "  >>> c = SkyCoord(10, 20, unit=\"deg\")  # defaults to ICRS frame\n",
       "  >>> c = SkyCoord([1, 2, 3], [-30, 45, 8], frame=\"icrs\", unit=\"deg\")  # 3 coords\n",
       "\n",
       "  >>> coords = [\"1:12:43.2 +31:12:43\", \"1 12 43.2 +31 12 43\"]\n",
       "  >>> c = SkyCoord(coords, frame=FK4, unit=(u.hourangle, u.deg), obstime=\"J1992.21\")\n",
       "\n",
       "  >>> c = SkyCoord(\"1h12m43.2s +1d12m43s\", frame=Galactic)  # Units from string\n",
       "  >>> c = SkyCoord(frame=\"galactic\", l=\"1h12m43.2s\", b=\"+1d12m43s\")\n",
       "\n",
       "  >>> ra = Longitude([1, 2, 3], unit=u.deg)  # Could also use Angle\n",
       "  >>> dec = np.array([4.5, 5.2, 6.3]) * u.deg  # Astropy Quantity\n",
       "  >>> c = SkyCoord(ra, dec, frame='icrs')\n",
       "  >>> c = SkyCoord(frame=ICRS, ra=ra, dec=dec, obstime='2001-01-02T12:34:56')\n",
       "\n",
       "  >>> c = FK4(1 * u.deg, 2 * u.deg)  # Uses defaults for obstime, equinox\n",
       "  >>> c = SkyCoord(c, obstime='J2010.11', equinox='B1965')  # Override defaults\n",
       "\n",
       "  >>> c = SkyCoord(w=0, u=1, v=2, unit='kpc', frame='galactic',\n",
       "  ...              representation_type='cartesian')\n",
       "\n",
       "  >>> c = SkyCoord([ICRS(ra=1*u.deg, dec=2*u.deg), ICRS(ra=3*u.deg, dec=4*u.deg)])\n",
       "\n",
       "Velocity components (proper motions or radial velocities) can also be\n",
       "provided in a similar manner::\n",
       "\n",
       "  >>> c = SkyCoord(ra=1*u.deg, dec=2*u.deg, radial_velocity=10*u.km/u.s)\n",
       "\n",
       "  >>> c = SkyCoord(ra=1*u.deg, dec=2*u.deg, pm_ra_cosdec=2*u.mas/u.yr, pm_dec=1*u.mas/u.yr)\n",
       "\n",
       "As shown, the frame can be a `~astropy.coordinates.BaseCoordinateFrame`\n",
       "class or the corresponding string alias.  The frame classes that are built in\n",
       "to astropy are `ICRS`, `FK5`, `FK4`, `FK4NoETerms`, and `Galactic`.\n",
       "The string aliases are simply lower-case versions of the class name, and\n",
       "allow for creating a `SkyCoord` object and transforming frames without\n",
       "explicitly importing the frame classes.\n",
       "\n",
       "Parameters\n",
       "----------\n",
       "frame : `~astropy.coordinates.BaseCoordinateFrame` class or string, optional\n",
       "    Type of coordinate frame this `SkyCoord` should represent. Defaults to\n",
       "    to ICRS if not given or given as None.\n",
       "unit : `~astropy.units.Unit`, string, or tuple of :class:`~astropy.units.Unit` or str, optional\n",
       "    Units for supplied coordinate values.\n",
       "    If only one unit is supplied then it applies to all values.\n",
       "    Note that passing only one unit might lead to unit conversion errors\n",
       "    if the coordinate values are expected to have mixed physical meanings\n",
       "    (e.g., angles and distances).\n",
       "obstime : time-like, optional\n",
       "    Time(s) of observation.\n",
       "equinox : time-like, optional\n",
       "    Coordinate frame equinox time.\n",
       "representation_type : str or Representation class\n",
       "    Specifies the representation, e.g. 'spherical', 'cartesian', or\n",
       "    'cylindrical'.  This affects the positional args and other keyword args\n",
       "    which must correspond to the given representation.\n",
       "copy : bool, optional\n",
       "    If `True` (default), a copy of any coordinate data is made.  This\n",
       "    argument can only be passed in as a keyword argument.\n",
       "**keyword_args\n",
       "    Other keyword arguments as applicable for user-defined coordinate frames.\n",
       "    Common options include:\n",
       "\n",
       "    ra, dec : angle-like, optional\n",
       "        RA and Dec for frames where ``ra`` and ``dec`` are keys in the\n",
       "        frame's ``representation_component_names``, including `ICRS`,\n",
       "        `FK5`, `FK4`, and `FK4NoETerms`.\n",
       "    pm_ra_cosdec, pm_dec  : `~astropy.units.Quantity` ['angular speed'], optional\n",
       "        Proper motion components, in angle per time units.\n",
       "    l, b : angle-like, optional\n",
       "        Galactic ``l`` and ``b`` for for frames where ``l`` and ``b`` are\n",
       "        keys in the frame's ``representation_component_names``, including\n",
       "        the `Galactic` frame.\n",
       "    pm_l_cosb, pm_b : `~astropy.units.Quantity` ['angular speed'], optional\n",
       "        Proper motion components in the `Galactic` frame, in angle per time\n",
       "        units.\n",
       "    x, y, z : float or `~astropy.units.Quantity` ['length'], optional\n",
       "        Cartesian coordinates values\n",
       "    u, v, w : float or `~astropy.units.Quantity` ['length'], optional\n",
       "        Cartesian coordinates values for the Galactic frame.\n",
       "    radial_velocity : `~astropy.units.Quantity` ['speed'], optional\n",
       "        The component of the velocity along the line-of-sight (i.e., the\n",
       "        radial direction), in velocity units.\n",
       "\u001b[0;31mFile:\u001b[0m           /srv/conda/envs/notebook/lib/python3.7/site-packages/astropy/coordinates/sky_coordinate.py\n",
       "\u001b[0;31mType:\u001b[0m           ABCMeta\n",
       "\u001b[0;31mSubclasses:\u001b[0m     \n"
      ]
     },
     "metadata": {},
     "output_type": "display_data"
    }
   ],
   "source": [
    "SkyCoord?"
   ]
  },
  {
   "cell_type": "code",
   "execution_count": 6,
   "metadata": {
    "collapsed": false,
    "jupyter": {
     "outputs_hidden": false
    }
   },
   "outputs": [
    {
     "data": {
      "text/plain": [
       "<SkyCoord (ICRS): (ra, dec) in deg\n",
       "    (9.81625, 0.88806)>"
      ]
     },
     "execution_count": 6,
     "metadata": {},
     "output_type": "execute_result"
    }
   ],
   "source": [
    "hcg7_center = SkyCoord(9.81625*u.deg, 0.88806*u.deg, frame='icrs')\n",
    "hcg7_center"
   ]
  },
  {
   "cell_type": "markdown",
   "metadata": {},
   "source": [
    "`SkyCoord` también acepta coordenadas formateadas como `strings` ya sea como  `strings` separados para RA/DEC o como un `string` simple. Si las unidades no vienen en el `string` original, usted tiene que especificarlas."
   ]
  },
  {
   "cell_type": "code",
   "execution_count": 7,
   "metadata": {
    "collapsed": false,
    "jupyter": {
     "outputs_hidden": false
    }
   },
   "outputs": [
    {
     "data": {
      "text/plain": [
       "<SkyCoord (ICRS): (ra, dec) in deg\n",
       "    (354.81625, 0.88806)>"
      ]
     },
     "execution_count": 7,
     "metadata": {},
     "output_type": "execute_result"
    }
   ],
   "source": [
    "SkyCoord('23h39m15.9s', '0d53m17.016s', frame='icrs')"
   ]
  },
  {
   "cell_type": "code",
   "execution_count": 8,
   "metadata": {
    "collapsed": false,
    "jupyter": {
     "outputs_hidden": false
    }
   },
   "outputs": [
    {
     "data": {
      "text/plain": [
       "<SkyCoord (ICRS): (ra, dec) in deg\n",
       "    (9.81625, 0.88806)>"
      ]
     },
     "execution_count": 8,
     "metadata": {},
     "output_type": "execute_result"
    }
   ],
   "source": [
    "SkyCoord('0:39:15.9 0:53:17.016', unit=(u.hour, u.deg), frame='icrs')"
   ]
  },
  {
   "cell_type": "markdown",
   "metadata": {},
   "source": [
    "Si el objeto que le interesa está en [SESAME](http://cdsweb.u-strasbg.fr/cgi-bin/Sesame), usted puede hallarlo directamente usando el método de clase<sup>1</sup> `SkyCoord.from_name()`. Esto requiere que usted esté conectado a internet. Dado que ya lo definimos explícitamente, no es necesario ejecutar este paso si usted no está conectado a internet.\n",
    "\n",
    "<sub> <sup>1</sup>Un objeto de clase es un constructor alternativo para un objeto `SkyCoord` object. Si usted llama la  `SkyCoord.from_name()` con un nombre, va a generar un nuevo objeto `SkyCoord`. Para más información sobre los objetos de clase y su uso, vea [esta página](https://julien.danjou.info/blog/2013/guide-python-static-class-abstract-methods).</sub>"
   ]
  },
  {
   "cell_type": "code",
   "execution_count": 9,
   "metadata": {
    "collapsed": false,
    "jupyter": {
     "outputs_hidden": false
    }
   },
   "outputs": [
    {
     "data": {
      "text/plain": [
       "<SkyCoord (ICRS): (ra, dec) in deg\n",
       "    (9.81625, 0.88805556)>"
      ]
     },
     "execution_count": 9,
     "metadata": {},
     "output_type": "execute_result"
    }
   ],
   "source": [
    "hcg7_center = SkyCoord.from_name('Hcg 7')\n",
    "hcg7_center"
   ]
  },
  {
   "cell_type": "code",
   "execution_count": 10,
   "metadata": {
    "collapsed": false,
    "jupyter": {
     "outputs_hidden": false
    }
   },
   "outputs": [
    {
     "data": {
      "text/plain": [
       "<SkyCoord (ICRS): (ra, dec) in deg\n",
       "    (266.41681662, -29.00782497)>"
      ]
     },
     "execution_count": 10,
     "metadata": {},
     "output_type": "execute_result"
    }
   ],
   "source": [
    "Black_Hole = SkyCoord.from_name('Sgr A*')\n",
    "Black_Hole"
   ]
  },
  {
   "cell_type": "markdown",
   "metadata": {},
   "source": [
    "El objeto que acabamos de crear nos da varias formas útiles de tener acceso a la información que almacena. En particular se usan los atributos ``ra`` y ``dec``, que son objetos [``Quantity``](http://docs.astropy.org/en/stable/units/index.html) de Astropy especializados (de hecho, pertenecen a una sub-clase llamada [``Angle``](http://docs.astropy.org/en/stable/api/astropy.coordinates.Angle.html), cuyas subclases son [``Latitude``](http://docs.astropy.org/en/stable/api/astropy.coordinates.Latitude.html) y [``Longitude``](http://docs.astropy.org/en/stable/api/astropy.coordinates.Longitude.html)).  Estos objetos almacenan ángulos y muestran representaciones bonitas de ellos. También tiene atributos útiles para convertir fácilmente a unidades comunes de ángulo."
   ]
  },
  {
   "cell_type": "code",
   "execution_count": 11,
   "metadata": {
    "collapsed": false,
    "jupyter": {
     "outputs_hidden": false
    }
   },
   "outputs": [
    {
     "data": {
      "text/plain": [
       "(astropy.coordinates.angles.Longitude, astropy.coordinates.angles.Latitude)"
      ]
     },
     "execution_count": 11,
     "metadata": {},
     "output_type": "execute_result"
    }
   ],
   "source": [
    "type(hcg7_center.ra), type(hcg7_center.dec)"
   ]
  },
  {
   "cell_type": "code",
   "execution_count": 12,
   "metadata": {
    "collapsed": false,
    "jupyter": {
     "outputs_hidden": false
    }
   },
   "outputs": [
    {
     "data": {
      "text/latex": [
       "$0^\\circ53{}^\\prime17.000016{}^{\\prime\\prime}$"
      ],
      "text/plain": [
       "<Latitude 0.88805556 deg>"
      ]
     },
     "execution_count": 12,
     "metadata": {},
     "output_type": "execute_result"
    }
   ],
   "source": [
    "hcg7_center.dec"
   ]
  },
  {
   "cell_type": "code",
   "execution_count": 13,
   "metadata": {
    "collapsed": false,
    "jupyter": {
     "outputs_hidden": false
    }
   },
   "outputs": [
    {
     "data": {
      "text/latex": [
       "$9^\\circ48{}^\\prime58.5{}^{\\prime\\prime}$"
      ],
      "text/plain": [
       "<Longitude 9.81625 deg>"
      ]
     },
     "execution_count": 13,
     "metadata": {},
     "output_type": "execute_result"
    }
   ],
   "source": [
    "hcg7_center.ra"
   ]
  },
  {
   "cell_type": "code",
   "execution_count": 14,
   "metadata": {
    "collapsed": false,
    "jupyter": {
     "outputs_hidden": false
    }
   },
   "outputs": [
    {
     "data": {
      "text/plain": [
       "0.05920370400000001"
      ]
     },
     "execution_count": 14,
     "metadata": {},
     "output_type": "execute_result"
    }
   ],
   "source": [
    "hcg7_center.dec.hour"
   ]
  },
  {
   "cell_type": "markdown",
   "metadata": {},
   "source": [
    "Ahora que tenemos un objeto `SkyCoord`, podemos usarlo para acceder a datos del [Sloan Digital Sky Survey](http://www.sdss.org/) (SDSS).  Empecemos intentando obtener una imagen usando la herramienta de recorte de imágenes de SDSS para asegurarnos que HGC7 está incluido en el catálogo SDSS y que tiene buena calidad de imagen.\n",
    "\n",
    "Esto requiere estar conectado a internet, pero si falla, el archivo ``'HCG7_SDSS_cutout.jpg'`` se incluye en el repositorio."
   ]
  },
  {
   "cell_type": "code",
   "execution_count": 20,
   "metadata": {
    "collapsed": false,
    "jupyter": {
     "outputs_hidden": false
    }
   },
   "outputs": [
    {
     "data": {
      "text/plain": [
       "('HCG7_SDSS_cutout.jpg', <http.client.HTTPMessage at 0x7f57537318d0>)"
      ]
     },
     "execution_count": 20,
     "metadata": {},
     "output_type": "execute_result"
    }
   ],
   "source": [
    "impix = 1024\n",
    "imsize = 12*u.arcmin\n",
    "cutoutbaseurl = 'http://skyservice.pha.jhu.edu/DR12/ImgCutout/getjpeg.aspx'\n",
    "query_string = urllib.parse.urlencode(dict(ra=hcg7_center.ra.deg, \n",
    "                                     dec=hcg7_center.dec.deg, \n",
    "                                     width=impix, height=impix, \n",
    "                                     scale=imsize.to(u.arcsec).value/impix))\n",
    "url = cutoutbaseurl + '?' + query_string\n",
    "\n",
    "urllib.request.urlretrieve(url, 'HCG7_SDSS_cutout.jpg')"
   ]
  },
  {
   "cell_type": "code",
   "execution_count": 22,
   "metadata": {
    "collapsed": false,
    "jupyter": {
     "outputs_hidden": false
    }
   },
   "outputs": [
    {
     "data": {
      "text/plain": [
       "'ra=9.81625&dec=0.88805556&width=1024&height=1024&scale=0.703125'"
      ]
     },
     "execution_count": 22,
     "metadata": {},
     "output_type": "execute_result"
    }
   ],
   "source": [
    "urllib.parse.urlencode(dict(ra=hcg7_center.ra.deg, \n",
    "                                     dec=hcg7_center.dec.deg, \n",
    "                                     width=impix, height=impix, \n",
    "                                     scale=imsize.to(u.arcsec).value/impix))"
   ]
  },
  {
   "cell_type": "markdown",
   "metadata": {},
   "source": [
    "Ahora miremos la imagen."
   ]
  },
  {
   "cell_type": "code",
   "execution_count": 23,
   "metadata": {
    "collapsed": false,
    "jupyter": {
     "outputs_hidden": false
    }
   },
   "outputs": [
    {
     "data": {
      "image/jpeg": "[encoded data removed]",
      "text/plain": [
       "<IPython.core.display.Image object>"
      ]
     },
     "execution_count": 23,
     "metadata": {},
     "output_type": "execute_result"
    }
   ],
   "source": [
    "IPython.display.Image('HCG7_SDSS_cutout.jpg')"
   ]
  },
  {
   "cell_type": "markdown",
   "metadata": {},
   "source": [
    "¡Bonito!"
   ]
  },
  {
   "cell_type": "markdown",
   "metadata": {},
   "source": [
    "### Ejercicios"
   ]
  },
  {
   "cell_type": "markdown",
   "metadata": {},
   "source": [
    "Cree un `SkyCoord` de algún otro objeto astronómico de su interés. Usando una sola llamada/instrucción, obtenga la RA/Dec en la forma 'HH:MM:SS.S DD:MM:SS.S'.  Revise su respuesta contra [SIMBAD](http://simbad.u-strasbg.fr/simbad/), que le mostrará las coordenadas correctas para su objeto.\n",
    "\n",
    "(Consejo: Puede valer la pena leer la documentación de `SkyCoord.to_string()`)"
   ]
  },
  {
   "cell_type": "code",
   "execution_count": null,
   "metadata": {
    "collapsed": false,
    "jupyter": {
     "outputs_hidden": false
    }
   },
   "outputs": [],
   "source": []
  },
  {
   "cell_type": "markdown",
   "metadata": {},
   "source": [
    "Ahora obtenga una imagen de su objeto del Digitized Sky Survey y descárguela y/o muéstrela en el notebook. Puntos extra si encuentra el truco (con una sola instrucción) para mostrar la imagen en el notebook *sin* descargar el archivo.\n",
    "\n",
    "(Consejo: STScI tiene en sus archivos una [copia del DSS](https://archive.stsci.edu/dss/).  El patrón para la URL es ``http://archive.stsci.edu/cgi-bin/dss_search?f=GIF&ra=RA&dec=DEC``)"
   ]
  },
  {
   "cell_type": "code",
   "execution_count": null,
   "metadata": {
    "collapsed": false,
    "jupyter": {
     "outputs_hidden": false
    }
   },
   "outputs": [],
   "source": []
  },
  {
   "cell_type": "markdown",
   "metadata": {},
   "source": [
    "## Transformando entre sistemas de coordenadas y planeación de observaciones"
   ]
  },
  {
   "cell_type": "markdown",
   "metadata": {},
   "source": [
    "Supongamos que usted quiere estudiar alguno de los objetos en este catálogo, y usted quiere saber cuando puede observarlo. Afortunadamente `astropy.coordinates` nos da esta información."
   ]
  },
  {
   "cell_type": "markdown",
   "metadata": {},
   "source": [
    "### Introduciendo transformaciones de coordenadas"
   ]
  },
  {
   "cell_type": "markdown",
   "metadata": {},
   "source": [
    "Para enteder lo que viene a continuación, recomendamos leer el [resumen del esquema de coordenadas de astropy](http://astropy.readthedocs.org/en/latest/coordinates/index.html#overview-of-astropy-coordinates-concepts).  Lo importante es saber que todas las coordenadas en astropy están en \"marcos de referencia\" particulares, y podemos transformar el mismo objeto `SkyCoord` de un marco a otro.  Pdemos transformar nuestro centro de HCG7 de ICRS a coordenadas galácticas:"
   ]
  },
  {
   "cell_type": "code",
   "execution_count": 24,
   "metadata": {
    "collapsed": false,
    "jupyter": {
     "outputs_hidden": false
    }
   },
   "outputs": [
    {
     "data": {
      "text/plain": [
       "<SkyCoord (Galactic): (l, b) in deg\n",
       "    (116.47556718, -61.83099914)>"
      ]
     },
     "execution_count": 24,
     "metadata": {},
     "output_type": "execute_result"
    }
   ],
   "source": [
    "hcg7_center.galactic"
   ]
  },
  {
   "cell_type": "code",
   "execution_count": 25,
   "metadata": {
    "collapsed": false,
    "jupyter": {
     "outputs_hidden": false
    }
   },
   "outputs": [
    {
     "data": {
      "text/plain": [
       "<SkyCoord (ICRS): (ra, dec) in deg\n",
       "    (9.81625, 0.88805556)>"
      ]
     },
     "execution_count": 25,
     "metadata": {},
     "output_type": "execute_result"
    }
   ],
   "source": [
    "hcg7_center"
   ]
  },
  {
   "cell_type": "markdown",
   "metadata": {},
   "source": [
    "Lo anterior nos permite hacer una visualización rápida del cambio de coordenadas. También es posible usar el método `transform_to()` para hacer este cambio."
   ]
  },
  {
   "cell_type": "code",
   "execution_count": 26,
   "metadata": {
    "collapsed": false,
    "jupyter": {
     "outputs_hidden": false
    }
   },
   "outputs": [
    {
     "data": {
      "text/plain": [
       "<SkyCoord (Galactic): (l, b) in deg\n",
       "    (116.47556718, -61.83099914)>"
      ]
     },
     "execution_count": 26,
     "metadata": {},
     "output_type": "execute_result"
    }
   ],
   "source": [
    "from astropy.coordinates import Galactic\n",
    "hcg7_center.transform_to(Galactic())"
   ]
  },
  {
   "cell_type": "markdown",
   "metadata": {},
   "source": [
    "El cambio de coordenadas cambia la estructura del objeto."
   ]
  },
  {
   "cell_type": "code",
   "execution_count": 27,
   "metadata": {
    "collapsed": false,
    "jupyter": {
     "outputs_hidden": false
    }
   },
   "outputs": [
    {
     "ename": "AttributeError",
     "evalue": "'SkyCoord' object has no attribute 'ra'",
     "output_type": "error",
     "traceback": [
      "\u001b[0;31m---------------------------------------------------------------------------\u001b[0m",
      "\u001b[0;31mAttributeError\u001b[0m                            Traceback (most recent call last)",
      "\u001b[0;32m/tmp/ipykernel_67/2429148061.py\u001b[0m in \u001b[0;36m<module>\u001b[0;34m\u001b[0m\n\u001b[0;32m----> 1\u001b[0;31m \u001b[0mhcg7_center\u001b[0m\u001b[0;34m.\u001b[0m\u001b[0mgalactic\u001b[0m\u001b[0;34m.\u001b[0m\u001b[0mra\u001b[0m  \u001b[0;31m# esto debe dar un mensaje de error, las coordenadas galácticas no se dan en RA/DEC\u001b[0m\u001b[0;34m\u001b[0m\u001b[0;34m\u001b[0m\u001b[0m\n\u001b[0m",
      "\u001b[0;32m/srv/conda/envs/notebook/lib/python3.7/site-packages/astropy/coordinates/sky_coordinate.py\u001b[0m in \u001b[0;36m__getattr__\u001b[0;34m(self, attr)\u001b[0m\n\u001b[1;32m    834\u001b[0m         \u001b[0;31m# Fail\u001b[0m\u001b[0;34m\u001b[0m\u001b[0;34m\u001b[0m\u001b[0;34m\u001b[0m\u001b[0m\n\u001b[1;32m    835\u001b[0m         raise AttributeError(\"'{}' object has no attribute '{}'\"\n\u001b[0;32m--> 836\u001b[0;31m                              .format(self.__class__.__name__, attr))\n\u001b[0m\u001b[1;32m    837\u001b[0m \u001b[0;34m\u001b[0m\u001b[0m\n\u001b[1;32m    838\u001b[0m     \u001b[0;32mdef\u001b[0m \u001b[0m__setattr__\u001b[0m\u001b[0;34m(\u001b[0m\u001b[0mself\u001b[0m\u001b[0;34m,\u001b[0m \u001b[0mattr\u001b[0m\u001b[0;34m,\u001b[0m \u001b[0mval\u001b[0m\u001b[0;34m)\u001b[0m\u001b[0;34m:\u001b[0m\u001b[0;34m\u001b[0m\u001b[0;34m\u001b[0m\u001b[0m\n",
      "\u001b[0;31mAttributeError\u001b[0m: 'SkyCoord' object has no attribute 'ra'"
     ]
    }
   ],
   "source": [
    "hcg7_center.galactic.ra  # esto debe dar un mensaje de error, las coordenadas galácticas no se dan en RA/DEC"
   ]
  },
  {
   "cell_type": "code",
   "execution_count": 28,
   "metadata": {
    "collapsed": false,
    "jupyter": {
     "outputs_hidden": false
    }
   },
   "outputs": [
    {
     "data": {
      "text/latex": [
       "$-61^\\circ49{}^\\prime51.59690964{}^{\\prime\\prime}$"
      ],
      "text/plain": [
       "<Latitude -61.83099914 deg>"
      ]
     },
     "execution_count": 28,
     "metadata": {},
     "output_type": "execute_result"
    }
   ],
   "source": [
    "hcg7_center.galactic.b"
   ]
  },
  {
   "cell_type": "markdown",
   "metadata": {},
   "source": [
    "### Cambio a coordenadas AltAz"
   ]
  },
  {
   "cell_type": "markdown",
   "metadata": {},
   "source": [
    "Para hacer observaciones, necesitamos hacer un cambio de coordenadas a un sistema basado en donde está el observador. Lo más común es usar coordenadas horizontales, o \"AltAz\". Necesitamos especificar desde donde queremos observar."
   ]
  },
  {
   "cell_type": "code",
   "execution_count": 38,
   "metadata": {
    "collapsed": false,
    "jupyter": {
     "outputs_hidden": false
    }
   },
   "outputs": [],
   "source": [
    "from astropy.coordinates import EarthLocation\n",
    "from astropy.time import Time\n",
    "\n",
    "observing_location = EarthLocation(lat='4d', lon='-72d', height=2600*u.m)  # Bogotá\n",
    "# Si se usa astropy v1.1 o más reciente, se puede reemplazar por la ubicación del observatorio:\n",
    "#observing_location = EarthLocation.of_site('Kitt Peak')\n",
    "\n",
    "observing_time = Time('2015-12-21 1:00')\n",
    "#observing_time = Time.now()"
   ]
  },
  {
   "cell_type": "markdown",
   "metadata": {},
   "source": [
    "Ahora usamos lo anterior para crear un objeto en el marco `AltAz`. Este marco tiene información sobre la atmósfera, que puede ser usado para corregir por refracción atmosférica. Aquí no consideramos esto, porque por defecto esto se ignora (se ajusta la presión a 0)."
   ]
  },
  {
   "cell_type": "code",
   "execution_count": 31,
   "metadata": {
    "collapsed": false,
    "jupyter": {
     "outputs_hidden": false
    }
   },
   "outputs": [
    {
     "data": {
      "text/plain": [
       "<AltAz Frame (obstime=2015-12-21 01:00:00.000, location=(1966985.09481352, -6053757.64417669, 442126.47207974) m, pressure=0.0 hPa, temperature=0.0 deg_C, relative_humidity=0.0, obswl=1.0 micron)>"
      ]
     },
     "execution_count": 31,
     "metadata": {},
     "output_type": "execute_result"
    }
   ],
   "source": [
    "from astropy.coordinates import AltAz\n",
    "\n",
    "aa = AltAz(location=observing_location, obstime=observing_time)\n",
    "aa"
   ]
  },
  {
   "cell_type": "markdown",
   "metadata": {},
   "source": [
    "Ahora transformamos nuestro `SkyCoord` en ICRS a `AltAz` para encontrar la ubicación en el cielo."
   ]
  },
  {
   "cell_type": "code",
   "execution_count": 33,
   "metadata": {
    "collapsed": false,
    "jupyter": {
     "outputs_hidden": false
    }
   },
   "outputs": [
    {
     "data": {
      "text/plain": [
       "<SkyCoord (AltAz: obstime=2015-12-21 01:00:00.000, location=(1966985.09481352, -6053757.64417669, 442126.47207974) m, pressure=0.0 hPa, temperature=0.0 deg_C, relative_humidity=0.0, obswl=1.0 micron): (az, alt) in deg\n",
       "    (262.84395087, 67.55106977)>"
      ]
     },
     "execution_count": 33,
     "metadata": {},
     "output_type": "execute_result"
    }
   ],
   "source": [
    "hcg7_center.transform_to(aa)"
   ]
  },
  {
   "cell_type": "markdown",
   "metadata": {},
   "source": [
    "## Unidades"
   ]
  },
  {
   "cell_type": "code",
   "execution_count": 43,
   "metadata": {},
   "outputs": [],
   "source": [
    "import astropy.units as u\n",
    "import astropy.constants as const"
   ]
  },
  {
   "cell_type": "code",
   "execution_count": 44,
   "metadata": {},
   "outputs": [],
   "source": [
    "c=const.c"
   ]
  },
  {
   "cell_type": "code",
   "execution_count": 45,
   "metadata": {},
   "outputs": [],
   "source": [
    "freq=1420*u.MHz"
   ]
  },
  {
   "cell_type": "code",
   "execution_count": null,
   "metadata": {},
   "outputs": [],
   "source": [
    "type(freq)"
   ]
  },
  {
   "cell_type": "code",
   "execution_count": 46,
   "metadata": {},
   "outputs": [
    {
     "data": {
      "text/latex": [
       "$211121.45 \\; \\mathrm{\\frac{m}{MHz\\,s}}$"
      ],
      "text/plain": [
       "<Quantity 211121.44929577 m / (MHz s)>"
      ]
     },
     "execution_count": 46,
     "metadata": {},
     "output_type": "execute_result"
    }
   ],
   "source": [
    "c/freq"
   ]
  },
  {
   "cell_type": "code",
   "execution_count": 47,
   "metadata": {},
   "outputs": [
    {
     "data": {
      "text/latex": [
       "$0.21112145 \\; \\mathrm{m}$"
      ],
      "text/plain": [
       "<Quantity 0.21112145 m>"
      ]
     },
     "execution_count": 47,
     "metadata": {},
     "output_type": "execute_result"
    }
   ],
   "source": [
    "(c/freq).to(u.m)"
   ]
  },
  {
   "cell_type": "code",
   "execution_count": 51,
   "metadata": {},
   "outputs": [
    {
     "data": {
      "text/latex": [
       "$0.21112145 \\; \\mathrm{m}$"
      ],
      "text/plain": [
       "<Quantity 0.21112145 m>"
      ]
     },
     "execution_count": 51,
     "metadata": {},
     "output_type": "execute_result"
    }
   ],
   "source": [
    "(c/freq).decompose()"
   ]
  },
  {
   "cell_type": "code",
   "execution_count": 52,
   "metadata": {},
   "outputs": [
    {
     "name": "stdout",
     "output_type": "stream",
     "text": [
      "  Name   = Gravitational constant\n",
      "  Value  = 6.6743e-11\n",
      "  Uncertainty  = 1.5e-15\n",
      "  Unit  = m3 / (kg s2)\n",
      "  Reference = CODATA 2018\n"
     ]
    }
   ],
   "source": [
    "print(const.G)"
   ]
  },
  {
   "cell_type": "code",
   "execution_count": 54,
   "metadata": {},
   "outputs": [
    {
     "data": {
      "text/latex": [
       "$2.9979246 \\times 10^{10} \\; \\mathrm{\\frac{cm}{s}}$"
      ],
      "text/plain": [
       "<Quantity 2.99792458e+10 cm / s>"
      ]
     },
     "execution_count": 54,
     "metadata": {},
     "output_type": "execute_result"
    }
   ],
   "source": [
    "c.cgs"
   ]
  },
  {
   "cell_type": "code",
   "execution_count": 60,
   "metadata": {},
   "outputs": [
    {
     "data": {
      "text/latex": [
       "$1.4959787 \\times 10^{11} \\; \\mathrm{m}$"
      ],
      "text/plain": [
       "<Quantity 1.49597871e+11 m>"
      ]
     },
     "execution_count": 60,
     "metadata": {},
     "output_type": "execute_result"
    }
   ],
   "source": [
    "(1*u.au).si"
   ]
  },
  {
   "cell_type": "markdown",
   "metadata": {},
   "source": [
    "# Archivos FITS"
   ]
  },
  {
   "cell_type": "markdown",
   "metadata": {},
   "source": [
    "Datos de espectros de CO galáctico (CO J = 1–0 line, vrest = 115.27 GHz) tomados por el radiotelescopio MINI."
   ]
  },
  {
   "cell_type": "code",
   "execution_count": 61,
   "metadata": {},
   "outputs": [],
   "source": [
    "from astropy.io import fits"
   ]
  },
  {
   "cell_type": "code",
   "execution_count": 63,
   "metadata": {},
   "outputs": [],
   "source": [
    "cubo = fits.open(\"southgal_fixbadc.fits\") #abrir objeto cubo de datos"
   ]
  },
  {
   "cell_type": "code",
   "execution_count": 71,
   "metadata": {},
   "outputs": [
    {
     "data": {
      "text/plain": [
       "array([[[ 0.00667214,  0.00667214,  0.00667214, ...,  0.00667214,\n",
       "         -0.03789592, -0.14931607],\n",
       "        [ 0.00667214,  0.00667214,  0.00667214, ...,  0.00667214,\n",
       "         -0.08246398,  0.00667214],\n",
       "        [ 0.00667214,  0.00667214,  0.00667214, ...,  0.00667214,\n",
       "         -0.12703204,  0.14037609],\n",
       "        ...,\n",
       "        [ 0.00667214,  0.00667214,  0.00667214, ...,  0.00667214,\n",
       "          0.00667214,  0.00667214],\n",
       "        [ 0.00667214,  0.00667214,  0.00667214, ...,  0.00667214,\n",
       "          0.00667214,  0.00667214],\n",
       "        [ 0.00667214,  0.00667214,  0.00667214, ...,  0.00667214,\n",
       "          0.00667214,  0.00667214]],\n",
       "\n",
       "       [[ 0.00667214,  0.00667214,  0.00667214, ...,  0.02895594,\n",
       "         -0.08246398, -0.12703204],\n",
       "        [ 0.00667214,  0.00667214,  0.00667214, ..., -0.01561189,\n",
       "         -0.03789592,  0.02895594],\n",
       "        [ 0.00667214,  0.00667214,  0.00667214, ..., -0.06017995,\n",
       "         -0.03789592,  0.16266012],\n",
       "        ...,\n",
       "        [ 0.00667214,  0.00667214,  0.00667214, ...,  0.00667214,\n",
       "          0.00667214,  0.00667214],\n",
       "        [ 0.00667214,  0.00667214,  0.00667214, ...,  0.00667214,\n",
       "          0.00667214,  0.00667214],\n",
       "        [ 0.00667214,  0.00667214,  0.00667214, ...,  0.00667214,\n",
       "          0.00667214,  0.00667214]],\n",
       "\n",
       "       [[ 0.00667214,  0.00667214,  0.00667214, ...,  0.02895594,\n",
       "         -0.10474801, -0.10474801],\n",
       "        [ 0.00667214,  0.00667214,  0.00667214, ..., -0.03789592,\n",
       "         -0.01561189,  0.05123997],\n",
       "        [ 0.00667214,  0.00667214,  0.00667214, ..., -0.12703204,\n",
       "          0.073524  ,  0.18494391],\n",
       "        ...,\n",
       "        [ 0.00667214,  0.00667214,  0.00667214, ...,  0.00667214,\n",
       "          0.00667214,  0.00667214],\n",
       "        [ 0.00667214,  0.00667214,  0.00667214, ...,  0.00667214,\n",
       "          0.00667214,  0.00667214],\n",
       "        [ 0.00667214,  0.00667214,  0.00667214, ...,  0.00667214,\n",
       "          0.00667214,  0.00667214]],\n",
       "\n",
       "       ...,\n",
       "\n",
       "       [[ 0.00667214,  0.00667214,  0.00667214, ..., -0.01561189,\n",
       "         -0.17159986,  0.14037609],\n",
       "        [ 0.00667214,  0.00667214,  0.00667214, ...,  0.05123997,\n",
       "         -0.10474801,  0.05123997],\n",
       "        [ 0.00667214,  0.00667214,  0.00667214, ...,  0.11809206,\n",
       "         -0.03789592, -0.03789592],\n",
       "        ...,\n",
       "        [ 0.00667214,  0.00667214,  0.00667214, ...,  0.00667214,\n",
       "          0.00667214,  0.00667214],\n",
       "        [ 0.00667214,  0.00667214,  0.00667214, ...,  0.00667214,\n",
       "          0.00667214,  0.00667214],\n",
       "        [ 0.00667214,  0.00667214,  0.00667214, ...,  0.00667214,\n",
       "          0.00667214,  0.00667214]],\n",
       "\n",
       "       [[ 0.00667214,  0.00667214,  0.00667214, ...,  0.00667214,\n",
       "         -0.21616793, -0.08246398],\n",
       "        [ 0.00667214,  0.00667214,  0.00667214, ...,  0.00667214,\n",
       "         -0.08246398, -0.03789592],\n",
       "        [ 0.00667214,  0.00667214,  0.00667214, ...,  0.02895594,\n",
       "          0.02895594,  0.00667214],\n",
       "        ...,\n",
       "        [ 0.00667214,  0.00667214,  0.00667214, ...,  0.00667214,\n",
       "          0.00667214,  0.00667214],\n",
       "        [ 0.00667214,  0.00667214,  0.00667214, ...,  0.00667214,\n",
       "          0.00667214,  0.00667214],\n",
       "        [ 0.00667214,  0.00667214,  0.00667214, ...,  0.00667214,\n",
       "          0.00667214,  0.00667214]],\n",
       "\n",
       "       [[ 0.00667214,  0.00667214,  0.00667214, ...,  0.00667214,\n",
       "         -0.260736  , -0.28302002],\n",
       "        [ 0.00667214,  0.00667214,  0.00667214, ..., -0.03789592,\n",
       "         -0.08246398, -0.12703204],\n",
       "        [ 0.00667214,  0.00667214,  0.00667214, ..., -0.06017995,\n",
       "          0.073524  ,  0.02895594],\n",
       "        ...,\n",
       "        [ 0.00667214,  0.00667214,  0.00667214, ...,  0.00667214,\n",
       "          0.00667214,  0.00667214],\n",
       "        [ 0.00667214,  0.00667214,  0.00667214, ...,  0.00667214,\n",
       "          0.00667214,  0.00667214],\n",
       "        [ 0.00667214,  0.00667214,  0.00667214, ...,  0.00667214,\n",
       "          0.00667214,  0.00667214]]], dtype=float32)"
      ]
     },
     "execution_count": 71,
     "metadata": {},
     "output_type": "execute_result"
    }
   ],
   "source": [
    "cubo[0].data"
   ]
  },
  {
   "cell_type": "code",
   "execution_count": 72,
   "metadata": {},
   "outputs": [
    {
     "name": "stderr",
     "output_type": "stream",
     "text": [
      "WARNING: VerifyWarning: Verification reported errors: [astropy.io.fits.verify]\n",
      "WARNING: VerifyWarning: Card 'CRVAL1' is not FITS standard (invalid value string: '-2.307985e+02  / coord value at CRPIX1').  Fixed 'CRVAL1' card to meet the FITS standard. [astropy.io.fits.verify]\n",
      "WARNING: VerifyWarning: Note: astropy.io.fits uses zero-based indexing.\n",
      " [astropy.io.fits.verify]\n",
      "WARNING: VerifyWarning: Card 'CDELT1' is not FITS standard (invalid value string: '1.300400e+00  / pixel spacing for axis 1').  Fixed 'CDELT1' card to meet the FITS standard. [astropy.io.fits.verify]\n",
      "WARNING: VerifyWarning: Card 'CRVAL2' is not FITS standard (invalid value string: '3.000000e+02  / coord value at CRPIX2').  Fixed 'CRVAL2' card to meet the FITS standard. [astropy.io.fits.verify]\n",
      "WARNING: VerifyWarning: Card 'CDELT2' is not FITS standard (invalid value string: '1.250000e-01  / pixel spacing for axis 2').  Fixed 'CDELT2' card to meet the FITS standard. [astropy.io.fits.verify]\n",
      "WARNING: VerifyWarning: Card 'CRVAL3' is not FITS standard (invalid value string: '-2.000000e+00  / coord value at CRPIX3').  Fixed 'CRVAL3' card to meet the FITS standard. [astropy.io.fits.verify]\n",
      "WARNING: VerifyWarning: Card 'CDELT3' is not FITS standard (invalid value string: '1.250000e-01  / pixel spacing for axis 3').  Fixed 'CDELT3' card to meet the FITS standard. [astropy.io.fits.verify]\n",
      "WARNING: VerifyWarning: Card 'DATAMIN' is not FITS standard (invalid value string: '-1.018392e+00  / minimum real value').  Fixed 'DATAMIN' card to meet the FITS standard. [astropy.io.fits.verify]\n",
      "WARNING: VerifyWarning: Card 'DATAMAX' is not FITS standard (invalid value string: '1.636313e+01  / maximum real value').  Fixed 'DATAMAX' card to meet the FITS standard. [astropy.io.fits.verify]\n"
     ]
    },
    {
     "data": {
      "text/plain": [
       "SIMPLE  =                    T  / Standard FITS format                          \n",
       "BITPIX  =                  -32 / Bits per pixel                                 \n",
       "NAXIS   =                    3  / Number of axes                                \n",
       "NAXIS1  =                  306  / Number pixels on axis 1                       \n",
       "NAXIS2  =                  385  / Number pixels on axis 2                       \n",
       "NAXIS3  =                   33  / Number pixels on axis 3                       \n",
       "CTYPE1  = 'VELO-LSR'            / axis 1 coord type                             \n",
       "CRVAL1  =        -2.307985E+02 / coord value at CRPIX1                          \n",
       "CDELT1  =         1.300400E+00 / pixel spacing for axis 1                       \n",
       "CRPIX1  =             1.000000  / ref pixel for axis 1                          \n",
       "CTYPE2  = 'GLON-FLT'            / axis 2 coord type                             \n",
       "CRVAL2  =         3.000000E+02 / coord value at CRPIX2                          \n",
       "CDELT2  =         1.250000E-01 / pixel spacing for axis 2                       \n",
       "CRPIX2  =             1.000000  / ref pixel for axis 2                          \n",
       "CTYPE3  = 'GLAT-FLT'            / axis 3 coord type                             \n",
       "CRVAL3  =        -2.000000E+00 / coord value at CRPIX3                          \n",
       "CDELT3  =         1.250000E-01 / pixel spacing for axis 3                       \n",
       "CRPIX3  =             1.000000  / ref pixel for axis 3                          \n",
       "DATAMIN =        -1.018392E+00 / minimum real value                             \n",
       "DATAMAX =         1.636313E+01 / maximum real value                             \n",
       "COMMENT iv=102-102, ix=1-289, iy=1-33 set blank                                 \n",
       "COMMENT iv=199-201, ix=1-289, iy=1-33 set blank                                 \n",
       "COMMENT iv=216-216, ix=1-289, iy=1-33 set blank                                 \n",
       "COMMENT iv=219-219, ix=1-289, iy=1-33 set blank                                 \n",
       "COMMENT Axis 1 linearly interpolated                                            \n",
       "COMMENT Written by T. M. Dame's MacFITS                                         \n",
       "COMMENT Created: Thu Jun 27 15:58:19 1996                                       \n",
       "COMMENT 6 chans eliminated & interpolated                                       \n",
       "COMMENT velocity slices interpolated                                            \n",
       "                                                                                \n",
       "                                                                                "
      ]
     },
     "execution_count": 72,
     "metadata": {},
     "output_type": "execute_result"
    }
   ],
   "source": [
    "cubo[0].header"
   ]
  },
  {
   "cell_type": "code",
   "execution_count": 73,
   "metadata": {},
   "outputs": [],
   "source": [
    "def values(h,j):\n",
    "\tN=h['NAXIS'+str(j)];\n",
    "\tval=np.zeros(N);\n",
    "\tfor i in range(0,N):\n",
    "\t\tval[i] = (i+1-float(h['CRPIX'+str(j)]))*float(h['CDELT'+str(j)]) + float(h['CRVAL'+str(j)]);\n",
    "\treturn val;\n",
    "\n",
    "cubo\t= fits.open(\"southgal_fixbadc.fits\") #abrir objeto cubo de datos\n",
    "data \t= cubo[0].data #extraer matriz de datos\n",
    "header\t= cubo[0].header #extraer el header del archivo fits\n",
    "#print header\n",
    "\n",
    "#Estos seran los tres arreglos con los valores reales de los tres ejes del cubo\n",
    "velocidad=values(header,1)\n",
    "longitud=values(header,2)\n",
    "latitud=values(header,3)"
   ]
  },
  {
   "cell_type": "code",
   "execution_count": 76,
   "metadata": {},
   "outputs": [],
   "source": [
    "i_l=-1\n",
    "i_b=-1\n",
    "T = data[i_b][i_l][:]"
   ]
  },
  {
   "cell_type": "code",
   "execution_count": 78,
   "metadata": {},
   "outputs": [
    {
     "data": {
      "text/plain": [
       "[<matplotlib.lines.Line2D at 0x7f573823b590>]"
      ]
     },
     "execution_count": 78,
     "metadata": {},
     "output_type": "execute_result"
    },
    {
     "data": {
      "image/png": "[encoded data removed]",
      "text/plain": [
       "<Figure size 432x288 with 1 Axes>"
      ]
     },
     "metadata": {
      "needs_background": "light"
     },
     "output_type": "display_data"
    }
   ],
   "source": [
    "plt.plot(velocidad,T)"
   ]
  },
  {
   "cell_type": "code",
   "execution_count": 79,
   "metadata": {},
   "outputs": [
    {
     "data": {
      "text/plain": [
       "<matplotlib.image.AxesImage at 0x7f5738159550>"
      ]
     },
     "execution_count": 79,
     "metadata": {},
     "output_type": "execute_result"
    },
    {
     "data": {
      "image/png": "[encoded data removed]",
      "text/plain": [
       "<Figure size 1440x360 with 1 Axes>"
      ]
     },
     "metadata": {
      "needs_background": "light"
     },
     "output_type": "display_data"
    }
   ],
   "source": [
    "maxeix=np.argmax(data,axis=2)\n",
    "varr=np.array([velocidad[i] for i in maxeix.ravel()]).reshape(maxeix.shape)\n",
    "plt.figure(figsize=(20,5))\n",
    "plt.imshow(varr,cmap='bwr',extent=[longitud[0],longitud[-1],latitud[0],latitud[-1]])"
   ]
  },
  {
   "cell_type": "code",
   "execution_count": null,
   "metadata": {},
   "outputs": [],
   "source": []
  }
 ],
 "metadata": {
  "astropy-tutorials": {
   "author": "Erik Tollerud <erik.tollerud@gmail.com>",
   "date": "July 2015",
   "description": "Demonstrates use of astropy.coordinates for common tasks. Includes matching catalogs against each other, basic observing planning tasks, and basic usage of coordinates.",
   "link_name": "Using astropy.coordinates to Match Catalogs and Plan Observations",
   "name": "",
   "published": true
  },
  "kernelspec": {
   "display_name": "Python 3 (ipykernel)",
   "language": "python",
   "name": "python3"
  },
  "language_info": {
   "codemirror_mode": {
    "name": "ipython",
    "version": 3
   },
   "file_extension": ".py",
   "mimetype": "text/x-python",
   "name": "python",
   "nbconvert_exporter": "python",
   "pygments_lexer": "ipython3",
   "version": "3.7.12"
  }
 },
 "nbformat": 4,
 "nbformat_minor": 4
}
